{
 "cells": [
  {
   "cell_type": "markdown",
   "metadata": {},
   "source": [
    "## 第9章 魔法方法， 属性， 迭代器\n",
    "* 构造(初始化) \\__init\\__\n",
    "* 成员访问\n",
    "* 属性\n",
    "* 迭代器\n",
    "* 生成器\n",
    "* 案例（八皇后问题）"
   ]
  },
  {
   "cell_type": "markdown",
   "metadata": {},
   "source": [
    "### 构造 \\__init__\n",
    "* 基本例子\n",
    "* 包含继承关系的例子"
   ]
  },
  {
   "cell_type": "code",
   "execution_count": 1,
   "metadata": {},
   "outputs": [
    {
     "name": "stdout",
     "output_type": "stream",
     "text": [
      "0\n",
      "45\n",
      "Aaahhh\n",
      "No, I m full\n",
      "Aaahhh\n",
      "No, I m full\n",
      "I love u\n"
     ]
    }
   ],
   "source": [
    "# init 基本例子\n",
    "class fooBar(object):\n",
    "    def __init__(self, value = 0):\n",
    "        self.somevar = value\n",
    "\n",
    "if __name__==\"__main__\":\n",
    "    f1 = fooBar()\n",
    "    print(f1.somevar)\n",
    "    f2 = fooBar(45)\n",
    "    print(f2.somevar)\n",
    "    \n",
    "# init 包含多类问题的例子\n",
    "# 父类\n",
    "class Bird(object):\n",
    "    def __init__(self):\n",
    "        self.hungry = True\n",
    "    def eat(self):\n",
    "        if self.hungry:\n",
    "            print(\"Aaahhh\")\n",
    "            self.hungry = False\n",
    "        else:\n",
    "            print(\"No, I m full\")\n",
    "# 子类\n",
    "class SingBird(Bird):\n",
    "    def __init__(self):\n",
    "        super(SingBird, self).__init__()\n",
    "        self.sound = \"I love u\"\n",
    "    def sing(self):\n",
    "        print(self.sound)\n",
    "\n",
    "if __name__==\"__main__\":\n",
    "    bird = Bird()\n",
    "    bird.eat()\n",
    "    bird.eat()\n",
    "    \n",
    "    singbird = SingBird()\n",
    "    singbird.eat()\n",
    "    singbird.eat()\n",
    "    singbird.sing()"
   ]
  },
  {
   "cell_type": "markdown",
   "metadata": {},
   "source": [
    "### 成员访问（主要是list）\n",
    "* \\__len\\__(self): len(list)\n",
    "* \\__getitem\\__(self): a[2]\n",
    "* \\__setitem\\__(self): a[2]=9\n",
    "* \\__delitem\\__(self): del a[2]"
   ]
  },
  {
   "cell_type": "code",
   "execution_count": 2,
   "metadata": {},
   "outputs": [
    {
     "name": "stdout",
     "output_type": "stream",
     "text": [
      "9\n",
      "8\n"
     ]
    }
   ],
   "source": [
    "def checkIndex(key):\n",
    "    \"\"\"\n",
    "    The key must be int and >0\n",
    "    \"\"\"\n",
    "    if not isinstance(key, int):    # 在实际中尽量不使用isinstance， 因为和多态相悖\n",
    "        raise TypeError\n",
    "    if key < 0: \n",
    "        raise IndexError\n",
    "        \n",
    "class ArithmSeq(object):\n",
    "    def __init__(self, start = 0, step = 1):\n",
    "        self.start = start\n",
    "        self.step = step\n",
    "        self.seq = {}\n",
    "    def __getitem__(self, key):\n",
    "        checkIndex(key)\n",
    "        try:\n",
    "            return self.seq[key]\n",
    "        except KeyError:\n",
    "            return self.start + key * self.step\n",
    "    def __setitem__(self, key, value):\n",
    "        checkIndex(key)\n",
    "        self.seq[key] = value \n",
    "        \n",
    "if __name__==\"__main__\":\n",
    "    s = ArithmSeq(1,2)\n",
    "    print(s[4])\n",
    "    s[2] = 8\n",
    "    print(s[2])   "
   ]
  },
  {
   "cell_type": "markdown",
   "metadata": {
    "collapsed": true
   },
   "source": [
    "* 自定义自己的list, 采用继承的方式。因为实现多态性是件困难的事情，因此可以利用python自带的list特性"
   ]
  },
  {
   "cell_type": "code",
   "execution_count": 3,
   "metadata": {},
   "outputs": [
    {
     "name": "stdout",
     "output_type": "stream",
     "text": [
      "[0, 1, 2, 3, 4, 5, 6, 7, 8, 9]\n",
      "0\n",
      "2\n",
      "1\n",
      "5\n",
      "2\n",
      "[0, 1, 5, 6, 7, 8, 9]\n"
     ]
    }
   ],
   "source": [
    "class CountList(list):\n",
    "    def __init__(self,*args):\n",
    "        super(CountList, self).__init__(*args)\n",
    "        self.counter = 0\n",
    "    def __getitem__(self, index):\n",
    "        self.counter += 1\n",
    "        return super(CountList, self).__getitem__(index)\n",
    "\n",
    "if __name__ == \"__main__\":\n",
    "    clist = CountList(range(10))\n",
    "    print(clist)\n",
    "    print(clist.counter)\n",
    "    print(clist[2])\n",
    "    print(clist.counter)\n",
    "    print(clist[5])\n",
    "    print(clist.counter)\n",
    "    del clist[2:5]\n",
    "    print(clist)"
   ]
  },
  {
   "cell_type": "markdown",
   "metadata": {},
   "source": [
    "### 属性(property)\n",
    "* 简单来说，就是把函数作为属性访问，即可以直接用. 访问的, 不关心内部是怎么实现的"
   ]
  },
  {
   "cell_type": "code",
   "execution_count": 4,
   "metadata": {},
   "outputs": [
    {
     "name": "stdout",
     "output_type": "stream",
     "text": [
      "360\n",
      "(12, 30)\n"
     ]
    }
   ],
   "source": [
    "class Rectangle:\n",
    "    def __init__(self):\n",
    "        self.width = 0\n",
    "        self.height = 0\n",
    "    def setSize(self, size):\n",
    "        self.width, self.height = size\n",
    "    def getSize(self):\n",
    "        return self.width, self.height\n",
    "    def getArea(self):\n",
    "        return self.width*self.height\n",
    "    size = property(getSize, setSize)\n",
    "    area = property(getArea)\n",
    "\n",
    "if __name__==\"__main__\":\n",
    "    r = Rectangle()\n",
    "    r.width = 12\n",
    "    r.height = 30\n",
    "    print(r.area)\n",
    "    print(r.size)"
   ]
  },
  {
   "cell_type": "markdown",
   "metadata": {},
   "source": [
    "### 迭代器"
   ]
  },
  {
   "cell_type": "code",
   "execution_count": 5,
   "metadata": {},
   "outputs": [
    {
     "name": "stdout",
     "output_type": "stream",
     "text": [
      "[1, 1, 2, 3, 5, 8]\n"
     ]
    }
   ],
   "source": [
    "# 运行时先调用__iter__, 再调用next\n",
    "class Fibs:\n",
    "    def __init__(self):\n",
    "        self.a, self.b = 0, 1\n",
    "    def __next__(self):\n",
    "        self.a, self.b  = self.b, self.a + self.b\n",
    "        if self.a > 10: \n",
    "            raise StopIteration\n",
    "        return self.a\n",
    "    def __iter__(self):\n",
    "        return self\n",
    "    \n",
    "if __name__==\"__main__\":\n",
    "    fibs = Fibs()\n",
    "    print(list(fibs))\n",
    "    for i in fibs:  # 无输出的原意是已经rasie StopIteration了\n",
    "        if(i<20):\n",
    "            print(i)\n",
    "        else:\n",
    "            break\n",
    "    "
   ]
  },
  {
   "cell_type": "markdown",
   "metadata": {
    "collapsed": true
   },
   "source": [
    "### 生成器\n",
    "* 任务1： 解析一层列表，且只有数字[[1,2],[3,4],[5]] -> [1,2,3,4,5] \n",
    "* 任务2： 解析多层列表，且只有数字[[[1],2],3,4,[5,[6,7],8]] -> [1,2,3,4,5,6,7,8]\n",
    "* 任务3： 解析包含字符串列表 ['foo',['bar',['baz']]] -> ['foo', 'bar', 'baz']\n",
    "* Tip: send 的使用"
   ]
  },
  {
   "cell_type": "code",
   "execution_count": 6,
   "metadata": {},
   "outputs": [
    {
     "name": "stdout",
     "output_type": "stream",
     "text": [
      "[1, 2, 3, 4, 5]\n",
      "[1, 2, 3, 4, 5, 6, 7, 8]\n",
      "['foo', 'bar', 'baz']\n",
      "42\n",
      "hello\n"
     ]
    }
   ],
   "source": [
    "def flatten1(nested):\n",
    "    for layer1 in nested:\n",
    "        for layer2 in layer1:\n",
    "            yield layer2\n",
    "def flatten2(nested):\n",
    "    try:\n",
    "        for layer1 in nested:\n",
    "            for layer2 in flatten2(layer1):\n",
    "                yield layer2                #必须要加yield, 返回值是一个flatten过的生成器，返回值不返回到最外层的函数\n",
    "    except TypeError:\n",
    "        yield nested\n",
    "\n",
    "def flatten3(nested):\n",
    "    try:\n",
    "        try: \n",
    "            nested + ''\n",
    "            # raise TypeError              # 放在这里是错误的，会引起死循环\n",
    "        except TypeError: \n",
    "            pass\n",
    "        else:\n",
    "            raise TypeError\n",
    "        for layer1 in nested:\n",
    "            for layer2 in flatten3(layer1):\n",
    "                yield layer2\n",
    "    except TypeError:\n",
    "        yield nested\n",
    "\n",
    "def repeater(value):\n",
    "    while True:\n",
    "        new = yield value\n",
    "        if new is not None:\n",
    "            value = new\n",
    "\n",
    "if __name__==\"__main__\":\n",
    "    nest1 = [[1,2],[3,4],[5]]\n",
    "    print(list(flatten1(nest1)))\n",
    "\n",
    "    nest2 = [[[1],2],3,4,[5,[6,7],8]]\n",
    "    print(list(flatten2(nest2)))\n",
    "\n",
    "    nest3 = ['foo',['bar',['baz']]]\n",
    "    print(list(flatten3(nest3)))\n",
    "    \n",
    "    # send 直接传值给value, 然后执行yield下面的语句，直至碰到下一个yield，产生下一个值。\n",
    "    r = repeater(42)  # r 是生成器\n",
    "    print(next(r))    # 返回数值\n",
    "    r.send(\"hello\")\n",
    "    print(next(r))"
   ]
  },
  {
   "cell_type": "markdown",
   "metadata": {},
   "source": [
    "### 迭代器与生成器的一些思考 \n",
    "* 迭代器需建类，生成器自动包含迭代，不用创建类\n"
   ]
  },
  {
   "cell_type": "markdown",
   "metadata": {},
   "source": [
    "### 案例（八皇后问题）\n",
    "#### 问题描述：n 皇后， 则NxN方格，n个皇后不能在同一行，同一列或者对角线上，请问有几种放法。\n",
    "#### 解题思路（以四皇后为例）\n",
    "* 状态表示: 如果可以成功放置的话，肯定每一行都有一个皇后，因此可以按顺序放置，并且只记录皇后的放置的列。 例如：state[0]=1，第一个皇后在第一行第一列。\n",
    "* 寻找冲突：如果有冲突，返回True, 否则返回False.\n",
    "* 基本情况：假设前面三个皇后都已经放好了\n",
    "* 需要递归的情况： 时刻记住函数返回的是什么，如果达到state 达到 num_queen，则依次从for返回上一层"
   ]
  },
  {
   "cell_type": "code",
   "execution_count": 7,
   "metadata": {},
   "outputs": [
    {
     "name": "stdout",
     "output_type": "stream",
     "text": [
      "[2]\n",
      "[(1, 3, 0, 2), (2, 0, 3, 1)]\n"
     ]
    }
   ],
   "source": [
    "# 定义冲突\n",
    "def conflict(state,pos):\n",
    "    num_already = len(state)\n",
    "    for i in range(num_already):\n",
    "        if(pos == state[i]): \n",
    "            return True\n",
    "        if(abs(i - num_already) == abs(state[i] - pos)):\n",
    "            return True\n",
    "    return False\n",
    "\n",
    "# 基本情况\n",
    "def queen(num_queen, state=[1,3,0]):\n",
    "    if len(state) == num_queen-1:\n",
    "        for pos in range(num_queen):\n",
    "            if not conflict(state, pos):\n",
    "                yield pos\n",
    "\n",
    "# 需要递归的情况 --- 时刻记住返回的是什么。\n",
    "def queenD(num_queen, state):\n",
    "    for pos in range(num_queen):\n",
    "        if not conflict(state,pos):\n",
    "            if len(state) == num_queen-1:\n",
    "                yield (pos,)\n",
    "            else:\n",
    "                for result in queenD(num_queen, state+[pos,]):\n",
    "                    yield (pos,) + result\n",
    "\n",
    "if __name__==\"__main__\":\n",
    "    print(list(queen(4)))\n",
    "    print(list(queenD(4,[])))\n"
   ]
  },
  {
   "cell_type": "code",
   "execution_count": 8,
   "metadata": {},
   "outputs": [
    {
     "data": {
      "text/plain": [
       "[(1, 3, 0, 2), (2, 0, 3, 1)]"
      ]
     },
     "execution_count": 8,
     "metadata": {},
     "output_type": "execute_result"
    }
   ],
   "source": [
    "list(queenD(4,[]))"
   ]
  },
  {
   "cell_type": "code",
   "execution_count": 9,
   "metadata": {},
   "outputs": [
    {
     "data": {
      "text/plain": [
       "(2, 4)"
      ]
     },
     "execution_count": 9,
     "metadata": {},
     "output_type": "execute_result"
    }
   ],
   "source": [
    "(2,)+(4,)"
   ]
  }
 ],
 "metadata": {
  "kernelspec": {
   "display_name": "Python 3",
   "language": "python",
   "name": "python3"
  },
  "language_info": {
   "codemirror_mode": {
    "name": "ipython",
    "version": 3
   },
   "file_extension": ".py",
   "mimetype": "text/x-python",
   "name": "python",
   "nbconvert_exporter": "python",
   "pygments_lexer": "ipython3",
   "version": "3.6.0"
  }
 },
 "nbformat": 4,
 "nbformat_minor": 2
}
